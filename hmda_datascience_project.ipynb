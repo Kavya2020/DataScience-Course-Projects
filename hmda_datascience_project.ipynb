{
 "cells": [
  {
   "cell_type": "markdown",
   "metadata": {},
   "source": [
    "# Dataset Name: HOME MORTGAGE DISCLOSURE ACT data \n",
    "Model chosen: Decision Tree Classifier\n",
    "\n",
    "Command to Install pydotplus through anaconda prompt: <br>\n",
    "conda install -c conda-forge pydotplus <br>\n",
    "pip install graphviz \n",
    "\n",
    "Objective: To classify the loan action taken depending on applicant-income, loan-amount, loan Type, loan purpose and agency."
   ]
  },
  {
   "cell_type": "code",
   "execution_count": 9,
   "metadata": {},
   "outputs": [],
   "source": [
    "# Importing the libraries\n",
    "import pandas as pd\n",
    "from sklearn.model_selection import train_test_split\n",
    "from sklearn import tree\n",
    "from sklearn import metrics\n",
    "import pydotplus\n",
    "from IPython.display import Image\n",
    "import matplotlib.pyplot as plt"
   ]
  },
  {
   "cell_type": "markdown",
   "metadata": {},
   "source": [
    "# Loading Data:   <br>\n",
    "After importing required libraries load the required dataset using pandas’ read CSV function."
   ]
  },
  {
   "cell_type": "code",
   "execution_count": 4,
   "metadata": {},
   "outputs": [],
   "source": [
    "# Importing the dataset\n",
    "dataset = pd.read_csv('hmda_lar.csv')\n"
   ]
  },
  {
   "cell_type": "markdown",
   "metadata": {},
   "source": [
    "# Feature Selection: <br>\n",
    "Excluded the attributes which have null values for more than 300 out of 500 observations. From the remaining observations we have identified the following features to analyse our objective.\n",
    "\n",
    "These are the independent variables selected from the dataset\n"
   ]
  },
  {
   "cell_type": "code",
   "execution_count": 6,
   "metadata": {},
   "outputs": [],
   "source": [
    "features = ['applicant_income_000s','loan_amount_000s','loan_type','loan_purpose','agency_code']"
   ]
  },
  {
   "cell_type": "code",
   "execution_count": 7,
   "metadata": {},
   "outputs": [],
   "source": [
    "target = ['action_taken']"
   ]
  },
  {
   "cell_type": "markdown",
   "metadata": {},
   "source": [
    "# Removing Null values and working with missing data:\n",
    "Here we have select columns and identify the columns with null values and fill the null values.\n",
    "\n",
    "import seaborn as sns\n",
    "corr = dataset.corr()\n",
    "fig, ax = plt.subplots(figsize=(16,10)) \n",
    "sns.heatmap(corr.iloc[:, 1:78:], annot = True, linewidth = 0.5, vmax= 8, cmap ='RdBu')\n",
    "\n"
   ]
  },
  {
   "cell_type": "code",
   "execution_count": 5,
   "metadata": {},
   "outputs": [
    {
     "name": "stdout",
     "output_type": "stream",
     "text": [
      "action_taken                        0\n",
      "action_taken_name                   0\n",
      "agency_code                         0\n",
      "agency_abbr                         0\n",
      "agency_name                         0\n",
      "                                 ... \n",
      "number_of_owner_occupied_units    221\n",
      "minority_population               221\n",
      "population                        221\n",
      "rate_spread                       479\n",
      "tract_to_msamd_income             221\n",
      "Length: 78, dtype: int64\n"
     ]
    }
   ],
   "source": [
    "print(dataset.isnull().sum()) # outputs the columns with null values\n",
    "# column \"applicant_income\" has null values. Replace missing values with the mean \n",
    "dataset['applicant_income_000s'].fillna(dataset['applicant_income_000s'].mean(), inplace=True)\n"
   ]
  },
  {
   "cell_type": "markdown",
   "metadata": {},
   "source": [
    "# Splitting Data: <br>\n",
    "To understand model performance, divide the dataset into training set(75%) and test set(25%). Training set to fit the model and test set to verify the performance. \n",
    "We used  sklearn.model_selection.train_test_split to split the dataset.\n",
    "\n",
    "\n"
   ]
  },
  {
   "cell_type": "code",
   "execution_count": 11,
   "metadata": {},
   "outputs": [],
   "source": [
    "#Split test and train data\n",
    "X = dataset[features]\n",
    "y = dataset[target]\n",
    "X_train, X_test, y_train, y_test = train_test_split(X, y, test_size=0.25, random_state=0)"
   ]
  },
  {
   "cell_type": "markdown",
   "metadata": {},
   "source": [
    "# Evaluating Model: <br>\n",
    "Accuracy can be computed by comparing actual test set values and predicted values.\n",
    "\n"
   ]
  },
  {
   "cell_type": "code",
   "execution_count": 13,
   "metadata": {},
   "outputs": [],
   "source": [
    "clf = tree.DecisionTreeClassifier(criterion=\"entropy\",max_depth=5)\n",
    "clf.fit(X_train, y_train)\n",
    "y_pred=clf.predict(X_test)"
   ]
  },
  {
   "cell_type": "code",
   "execution_count": 14,
   "metadata": {},
   "outputs": [
    {
     "name": "stdout",
     "output_type": "stream",
     "text": [
      "[[26  1 11  0  5  0  0]\n",
      " [ 3  1  0  0  0  0  5]\n",
      " [ 5  1 24  0  1  1  1]\n",
      " [ 2  0  4  0  0  0  0]\n",
      " [ 8  0  3  0  5  0  0]\n",
      " [ 0  1  1  0  1  1  5]\n",
      " [ 1  1  0  0  0  0  7]]\n"
     ]
    }
   ],
   "source": [
    "from sklearn.metrics import confusion_matrix\n",
    "cm = confusion_matrix(y_test, y_pred)\n",
    "print(cm) "
   ]
  },
  {
   "cell_type": "markdown",
   "metadata": {},
   "source": [
    "\n",
    "# ACCURACY = sum of correct classifications/ total no of classifications"
   ]
  },
  {
   "cell_type": "code",
   "execution_count": 23,
   "metadata": {},
   "outputs": [
    {
     "name": "stdout",
     "output_type": "stream",
     "text": [
      "Decision Tree Accuracy: 51.2\n"
     ]
    }
   ],
   "source": [
    "print(\"Decision Tree Accuracy:\", metrics.accuracy_score(y_test, y_pred)*100)"
   ]
  },
  {
   "cell_type": "markdown",
   "metadata": {},
   "source": [
    "# Performance metric:"
   ]
  },
  {
   "cell_type": "code",
   "execution_count": 24,
   "metadata": {},
   "outputs": [
    {
     "name": "stdout",
     "output_type": "stream",
     "text": [
      "----- Decision Tree Classification Report  -----\n",
      "              precision    recall  f1-score   support\n",
      "\n",
      "           1       0.58      0.60      0.59        43\n",
      "           2       0.20      0.11      0.14         9\n",
      "           3       0.56      0.73      0.63        33\n",
      "           4       0.00      0.00      0.00         6\n",
      "           6       0.42      0.31      0.36        16\n",
      "           7       0.50      0.11      0.18         9\n",
      "           8       0.39      0.78      0.52         9\n",
      "\n",
      "    accuracy                           0.51       125\n",
      "   macro avg       0.38      0.38      0.35       125\n",
      "weighted avg       0.48      0.51      0.48       125\n",
      "\n"
     ]
    },
    {
     "name": "stderr",
     "output_type": "stream",
     "text": [
      "C:\\Program Files\\Anaconda3\\lib\\site-packages\\sklearn\\metrics\\_classification.py:1272: UndefinedMetricWarning: Precision and F-score are ill-defined and being set to 0.0 in labels with no predicted samples. Use `zero_division` parameter to control this behavior.\n",
      "  _warn_prf(average, modifier, msg_start, len(result))\n"
     ]
    }
   ],
   "source": [
    "print(\"----- Decision Tree Classification Report  -----\")\n",
    "print(metrics.classification_report(y_test, y_pred))"
   ]
  },
  {
   "cell_type": "code",
   "execution_count": null,
   "metadata": {},
   "outputs": [],
   "source": [
    "# View the decision tree\n",
    "data_feature_names = ['Applicant Income', 'Loan Amount','Loan Type','Loan Purpose','Agency']\n",
    "plotData=tree.export_graphviz(clf, out_file=None, filled=True, rounded=True, special_characters=True,\n",
    "               feature_names=data_feature_names)\n",
    "graph = pydotplus.graph_from_dot_data(plotData)\n",
    "graph.write_png('DecisionTree.png')\n",
    "Image(graph.create_png())\n",
    "print(\"Decision Tree Created\")"
   ]
  }
 ],
 "metadata": {
  "kernelspec": {
   "display_name": "Python 3",
   "language": "python",
   "name": "python3"
  },
  "language_info": {
   "codemirror_mode": {
    "name": "ipython",
    "version": 3
   },
   "file_extension": ".py",
   "mimetype": "text/x-python",
   "name": "python",
   "nbconvert_exporter": "python",
   "pygments_lexer": "ipython3",
   "version": "3.7.6"
  }
 },
 "nbformat": 4,
 "nbformat_minor": 4
}
